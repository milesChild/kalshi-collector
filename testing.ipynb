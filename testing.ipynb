{
 "cells": [
  {
   "cell_type": "code",
   "execution_count": 1,
   "metadata": {},
   "outputs": [
    {
     "data": {
      "text/plain": [
       "{'bid': None, 'ask': [[95, 52]]}"
      ]
     },
     "execution_count": 1,
     "metadata": {},
     "output_type": "execute_result"
    }
   ],
   "source": [
    "# imports\n",
    "from src.kalshi_collector import KalshiCollector\n",
    "from credentials import KALSHI_EMAIL, KALSHI_PASSWORD\n",
    "\n",
    "kc = KalshiCollector(ticker=\"INXD-23SEP18-B4512\", username=KALSHI_EMAIL, password=KALSHI_PASSWORD)\n",
    "orderbook = kc.collect_orderbook()\n",
    "orderbook"
   ]
  },
  {
   "cell_type": "code",
   "execution_count": null,
   "metadata": {},
   "outputs": [],
   "source": [
    "from src.db import DB\n",
    "from credentials import DB_USERNAME, DB_PASSWORD\n",
    "\n",
    "db = DB(username=DB_USERNAME, password=DB_PASSWORD)\n",
    "db.push_orderbook()"
   ]
  }
 ],
 "metadata": {
  "kernelspec": {
   "display_name": "base",
   "language": "python",
   "name": "python3"
  },
  "language_info": {
   "codemirror_mode": {
    "name": "ipython",
    "version": 3
   },
   "file_extension": ".py",
   "mimetype": "text/x-python",
   "name": "python",
   "nbconvert_exporter": "python",
   "pygments_lexer": "ipython3",
   "version": "3.9.12"
  },
  "orig_nbformat": 4
 },
 "nbformat": 4,
 "nbformat_minor": 2
}
