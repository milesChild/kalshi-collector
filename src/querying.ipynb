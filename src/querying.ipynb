{
 "cells": [
  {
   "cell_type": "code",
   "execution_count": 6,
   "metadata": {},
   "outputs": [
    {
     "data": {
      "text/html": [
       "<div>\n",
       "<style scoped>\n",
       "    .dataframe tbody tr th:only-of-type {\n",
       "        vertical-align: middle;\n",
       "    }\n",
       "\n",
       "    .dataframe tbody tr th {\n",
       "        vertical-align: top;\n",
       "    }\n",
       "\n",
       "    .dataframe thead th {\n",
       "        text-align: right;\n",
       "    }\n",
       "</style>\n",
       "<table border=\"1\" class=\"dataframe\">\n",
       "  <thead>\n",
       "    <tr style=\"text-align: right;\">\n",
       "      <th></th>\n",
       "    </tr>\n",
       "  </thead>\n",
       "  <tbody>\n",
       "  </tbody>\n",
       "</table>\n",
       "</div>"
      ],
      "text/plain": [
       "Empty DataFrame\n",
       "Columns: []\n",
       "Index: []"
      ]
     },
     "execution_count": 6,
     "metadata": {},
     "output_type": "execute_result"
    }
   ],
   "source": [
    "from db import DB\n",
    "from credentials import DB_USERNAME, DB_PASSWORD, DATABASE_NAME, RDS_HOSTNAME\n",
    "import pandas as pd\n",
    "\n",
    "QUERY = \"\"\"SELECT * from orderbooks;\"\"\"\n",
    "\n",
    "db = DB(username=DB_USERNAME, password=DB_PASSWORD, host=RDS_HOSTNAME, database_name=DATABASE_NAME)\n",
    "db.cursor.execute(QUERY)\n",
    "col_headers = [x[0] for x in db.cursor.description]\n",
    "json_data = []\n",
    "the_data = db.cursor.fetchall()\n",
    "for row in the_data:\n",
    "    json_data.append(dict(zip(col_headers, row)))\n",
    "df = pd.DataFrame(json_data)\n",
    "df"
   ]
  },
  {
   "cell_type": "code",
   "execution_count": 2,
   "metadata": {},
   "outputs": [
    {
     "data": {
      "text/plain": [
       "{'bid': [[1, 14901]],\n",
       " 'ask': [[1, 6000],\n",
       "  [2, 1000],\n",
       "  [3, 1050],\n",
       "  [55, 1000],\n",
       "  [65, 1000],\n",
       "  [66, 20],\n",
       "  [79, 20],\n",
       "  [81, 20],\n",
       "  [82, 900],\n",
       "  [89, 458],\n",
       "  [90, 20],\n",
       "  [91, 20],\n",
       "  [92, 20],\n",
       "  [95, 350],\n",
       "  [96, 662],\n",
       "  [97, 800],\n",
       "  [98, 333]]}"
      ]
     },
     "execution_count": 2,
     "metadata": {},
     "output_type": "execute_result"
    }
   ],
   "source": [
    "# imports\n",
    "from kalshi_collector import KalshiCollector\n",
    "from credentials import KALSHI_EMAIL, KALSHI_PASSWORD\n",
    "\n",
    "ticker=\"GPT%-23DEC31\"\n",
    "\n",
    "kc = KalshiCollector(ticker=ticker, username=KALSHI_EMAIL, password=KALSHI_PASSWORD)\n",
    "orderbook = kc.collect_orderbook()\n",
    "orderbook"
   ]
  },
  {
   "cell_type": "code",
   "execution_count": null,
   "metadata": {},
   "outputs": [],
   "source": []
  }
 ],
 "metadata": {
  "kernelspec": {
   "display_name": "base",
   "language": "python",
   "name": "python3"
  },
  "language_info": {
   "codemirror_mode": {
    "name": "ipython",
    "version": 3
   },
   "file_extension": ".py",
   "mimetype": "text/x-python",
   "name": "python",
   "nbconvert_exporter": "python",
   "pygments_lexer": "ipython3",
   "version": "3.9.12"
  },
  "orig_nbformat": 4
 },
 "nbformat": 4,
 "nbformat_minor": 2
}
